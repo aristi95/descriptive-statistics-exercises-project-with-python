{
    "cells": [
        {
            "cell_type": "markdown",
            "id": "ac622319",
            "metadata": {},
            "source": [
                "# Descriptive statistics problems"
            ]
        },
        {
            "cell_type": "markdown",
            "id": "5e0ab0d5",
            "metadata": {},
            "source": [
                "### Exercise 1\n",
                "\n",
                "We will use NumPy to obtain information to describe statistically.\n",
                "\n",
                "- Generate an array of 100 elements following a normal distribution.\n",
                "- Generate an array of 100 elements following a chi-square distribution with 3 degrees of freedom.\n",
                "- Calculate the main metrics and statistical measures that best describe the two vectors."
            ]
        },
        {
            "cell_type": "code",
            "execution_count": 2,
            "id": "34720ab6",
            "metadata": {},
            "outputs": [
                {
                    "data": {
                        "text/plain": [
                            "({'Mean': np.float64(0.026011040819871826),\n",
                            "  'Median': np.float64(0.13230067105583648),\n",
                            "  'Standard Deviation': np.float64(1.1378105736527602),\n",
                            "  'Variance': np.float64(1.2946129015160233),\n",
                            "  'Minimum': np.float64(-2.7982648707186133),\n",
                            "  'Maximum': np.float64(2.106912027771386),\n",
                            "  '25th Percentile': np.float64(-0.7382977801451056),\n",
                            "  '75th Percentile': np.float64(0.9119492874444435),\n",
                            "  'Skewness': np.float64(-0.28985296223696716),\n",
                            "  'Kurtosis': np.float64(2.4140865596170324)},\n",
                            " {'Mean': np.float64(2.988744999350958),\n",
                            "  'Median': np.float64(2.323381384735995),\n",
                            "  'Standard Deviation': np.float64(2.3895271678063805),\n",
                            "  'Variance': np.float64(5.709840085684782),\n",
                            "  'Minimum': np.float64(0.0374506358614845),\n",
                            "  'Maximum': np.float64(10.220204532276572),\n",
                            "  '25th Percentile': np.float64(1.2948497136900063),\n",
                            "  '75th Percentile': np.float64(3.850386057304199),\n",
                            "  'Skewness': np.float64(1.2638515753354522),\n",
                            "  'Kurtosis': np.float64(4.045804131729438)})"
                        ]
                    },
                    "execution_count": 2,
                    "metadata": {},
                    "output_type": "execute_result"
                }
            ],
            "source": [
                "# TODO\n",
                "import numpy as np\n",
                "\n",
                "# Generate an array of 100 elements following a normal distribution (mean=0, std=1)\n",
                "normal_array = np.random.normal(loc=0, scale=1, size=100)\n",
                "\n",
                "# Generate an array of 100 elements following a chi-square distribution with 3 degrees of freedom\n",
                "chi_square_array = np.random.chisquare(df=3, size=100)\n",
                "\n",
                "# Compute main statistical metrics for both distributions\n",
                "def compute_statistics(data):\n",
                "    return {\n",
                "        \"Mean\": np.mean(data),\n",
                "        \"Median\": np.median(data),\n",
                "        \"Standard Deviation\": np.std(data, ddof=1),\n",
                "        \"Variance\": np.var(data, ddof=1),\n",
                "        \"Minimum\": np.min(data),\n",
                "        \"Maximum\": np.max(data),\n",
                "        \"25th Percentile\": np.percentile(data, 25),\n",
                "        \"75th Percentile\": np.percentile(data, 75),\n",
                "        \"Skewness\": np.mean((data - np.mean(data))**3) / (np.std(data, ddof=1)**3),\n",
                "        \"Kurtosis\": np.mean((data - np.mean(data))**4) / (np.std(data, ddof=1)**4)\n",
                "    }\n",
                "\n",
                "# Get statistics for both arrays\n",
                "normal_stats = compute_statistics(normal_array)\n",
                "chi_square_stats = compute_statistics(chi_square_array)\n",
                "\n",
                "normal_stats, chi_square_stats\n"
            ]
        },
        {
            "cell_type": "markdown",
            "id": "46c70c3d",
            "metadata": {},
            "source": [
                "### Exercise 2\n",
                "\n",
                "Write a Python program to calculate the standard deviation of the following data:\n",
                "\n",
                "```py\n",
                "data = [4, 2, 5, 8, 6]\n",
                "```"
            ]
        },
        {
            "cell_type": "code",
            "execution_count": 1,
            "id": "d590308e",
            "metadata": {},
            "outputs": [
                {
                    "data": {
                        "text/plain": [
                            "2.0"
                        ]
                    },
                    "execution_count": 1,
                    "metadata": {},
                    "output_type": "execute_result"
                }
            ],
            "source": [
                "# TODO\n",
                "import math\n",
                "\n",
                "def standev(data, sample=False):\n",
                "    n = len(data)\n",
                "    if n == 0:\n",
                "        return None  # Avoid division by zero\n",
                "\n",
                "    mean = sum(data) / n\n",
                "    squared_diffs = sum((x - mean) ** 2 for x in data)\n",
                "\n",
                "    if sample:\n",
                "        if n < 2:\n",
                "            return None  # Cannot compute sample standard deviation with fewer than 2 values\n",
                "        variance = squared_diffs / (n - 1)\n",
                "    else:\n",
                "        variance = squared_diffs / n\n",
                "\n",
                "    std_deviation = math.sqrt(variance)\n",
                "    return std_deviation\n",
                "\n",
                "data = [4, 2, 5, 8, 6]\n",
                "standev(data)"
            ]
        }
    ],
    "metadata": {
        "kernelspec": {
            "display_name": "Python 3",
            "language": "python",
            "name": "python3"
        },
        "language_info": {
            "codemirror_mode": {
                "name": "ipython",
                "version": 3
            },
            "file_extension": ".py",
            "mimetype": "text/x-python",
            "name": "python",
            "nbconvert_exporter": "python",
            "pygments_lexer": "ipython3",
            "version": "3.11.4"
        }
    },
    "nbformat": 4,
    "nbformat_minor": 5
}
