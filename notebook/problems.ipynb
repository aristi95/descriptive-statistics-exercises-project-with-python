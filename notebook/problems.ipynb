{
    "cells": [
        {
            "cell_type": "markdown",
            "id": "ac622319",
            "metadata": {},
            "source": [
                "# Descriptive statistics problems"
            ]
        },
        {
            "cell_type": "markdown",
            "id": "5e0ab0d5",
            "metadata": {},
            "source": [
                "### Exercise 1\n",
                "\n",
                "We will use NumPy to obtain information to describe statistically.\n",
                "\n",
                "- Generate an array of 100 elements following a normal distribution.\n",
                "- Generate an array of 100 elements following a chi-square distribution with 3 degrees of freedom.\n",
                "- Calculate the main metrics and statistical measures that best describe the two vectors."
            ]
        },
        {
            "cell_type": "code",
            "execution_count": 3,
            "id": "34720ab6",
            "metadata": {},
            "outputs": [
                {
                    "data": {
                        "text/plain": [
                            "({'Mean': np.float64(0.03986008253910239),\n",
                            "  'Median': np.float64(0.0774162867050367),\n",
                            "  'Standard Deviation': np.float64(1.0609910956523376),\n",
                            "  'Variance': np.float64(1.125702105053548),\n",
                            "  'Minimum': np.float64(-3.249605427771064),\n",
                            "  'Maximum': np.float64(2.7410737227149733),\n",
                            "  '25th Percentile': np.float64(-0.5868157051575571),\n",
                            "  '75th Percentile': np.float64(0.6268886065949009),\n",
                            "  'Skewness': np.float64(-0.14237928988114218),\n",
                            "  'Kurtosis': np.float64(3.3557094121245963)},\n",
                            " {'Mean': np.float64(3.196070616138475),\n",
                            "  'Median': np.float64(2.424781939796356),\n",
                            "  'Standard Deviation': np.float64(2.3176268988757376),\n",
                            "  'Variance': np.float64(5.3713944423923685),\n",
                            "  'Minimum': np.float64(0.12457232986284139),\n",
                            "  'Maximum': np.float64(12.582010704501695),\n",
                            "  '25th Percentile': np.float64(1.504732409205955),\n",
                            "  '75th Percentile': np.float64(4.573039860214156),\n",
                            "  'Skewness': np.float64(1.2143929029138998),\n",
                            "  'Kurtosis': np.float64(4.609884082194203)})"
                        ]
                    },
                    "execution_count": 3,
                    "metadata": {},
                    "output_type": "execute_result"
                }
            ],
            "source": [
                "# TODO\n",
                "import numpy as np\n",
                "\n",
                "# Generate an array of 100 elements following a normal distribution (mean=0, std=1)\n",
                "normal_array = np.random.normal(loc=0, scale=1, size=100)\n",
                "\n",
                "# Generate an array of 100 elements following a chi-square distribution with 3 degrees of freedom\n",
                "chi_square_array = np.random.chisquare(df=3, size=100)\n",
                "\n",
                "# Compute main statistical metrics for both distributions\n",
                "def compute_statistics(data):\n",
                "    return {\n",
                "        \"Mean\": np.mean(data),\n",
                "        \"Median\": np.median(data),\n",
                "        \"Standard Deviation\": np.std(data, ddof=1),\n",
                "        \"Variance\": np.var(data, ddof=1),\n",
                "        \"Minimum\": np.min(data),\n",
                "        \"Maximum\": np.max(data),\n",
                "        \"25th Percentile\": np.percentile(data, 25),\n",
                "        \"75th Percentile\": np.percentile(data, 75),\n",
                "        \"Skewness\": np.mean((data - np.mean(data))**3) / (np.std(data, ddof=1)**3),\n",
                "        \"Kurtosis\": np.mean((data - np.mean(data))**4) / (np.std(data, ddof=1)**4)\n",
                "    }\n",
                "\n",
                "# Get statistics for both arrays\n",
                "normal_stats = compute_statistics(normal_array)\n",
                "chi_square_stats = compute_statistics(chi_square_array)\n",
                "\n",
                "normal_stats, chi_square_stats\n"
            ]
        },
        {
            "cell_type": "markdown",
            "id": "46c70c3d",
            "metadata": {},
            "source": [
                "### Exercise 2\n",
                "\n",
                "Write a Python program to calculate the standard deviation of the following data:\n",
                "\n",
                "```py\n",
                "data = [4, 2, 5, 8, 6]\n",
                "```"
            ]
        },
        {
            "cell_type": "code",
            "execution_count": 2,
            "id": "d590308e",
            "metadata": {},
            "outputs": [
                {
                    "data": {
                        "text/plain": [
                            "2.0"
                        ]
                    },
                    "execution_count": 2,
                    "metadata": {},
                    "output_type": "execute_result"
                }
            ],
            "source": [
                "# TODO\n",
                "import math\n",
                "\n",
                "def standev(data):\n",
                "    mean = sum(data) / len(data)\n",
                "    squared_errors = []\n",
                "    \n",
                "    for x in data:\n",
                "        error = x - mean\n",
                "        squared_error = error ** 2\n",
                "        squared_errors.append(squared_error)\n",
                "    \n",
                "    variance = sum(squared_errors) / len(data)\n",
                "    return math.sqrt(variance)\n",
                "\n",
                "data = [4, 2, 5, 8, 6]\n",
                "standev(data)"
            ]
        }
    ],
    "metadata": {
        "kernelspec": {
            "display_name": "Python 3",
            "language": "python",
            "name": "python3"
        },
        "language_info": {
            "codemirror_mode": {
                "name": "ipython",
                "version": 3
            },
            "file_extension": ".py",
            "mimetype": "text/x-python",
            "name": "python",
            "nbconvert_exporter": "python",
            "pygments_lexer": "ipython3",
            "version": "3.11.4"
        }
    },
    "nbformat": 4,
    "nbformat_minor": 5
}
