{
    "cells": [
        {
            "cell_type": "markdown",
            "id": "ac622319",
            "metadata": {},
            "source": [
                "# Descriptive statistics problems"
            ]
        },
        {
            "cell_type": "markdown",
            "id": "5e0ab0d5",
            "metadata": {},
            "source": [
                "### Exercise 1\n",
                "\n",
                "We will use NumPy to obtain information to describe statistically.\n",
                "\n",
                "- Generate an array of 100 elements following a normal distribution.\n",
                "- Generate an array of 100 elements following a chi-square distribution with 3 degrees of freedom.\n",
                "- Calculate the main metrics and statistical measures that best describe the two vectors."
            ]
        },
        {
            "cell_type": "code",
            "execution_count": 1,
            "id": "34720ab6",
            "metadata": {},
            "outputs": [
                {
                    "data": {
                        "text/plain": [
                            "({'Mean': np.float64(0.010789600554082379),\n",
                            "  'Median': np.float64(0.052176078932747755),\n",
                            "  'Standard Deviation': np.float64(1.0239344844248728),\n",
                            "  'Variance': np.float64(1.04844182839443),\n",
                            "  'Minimum': np.float64(-2.2452453704515762),\n",
                            "  'Maximum': np.float64(2.5943318529484114),\n",
                            "  '25th Percentile': np.float64(-0.6374981757894984),\n",
                            "  '75th Percentile': np.float64(0.7095394577886625),\n",
                            "  'Skewness': np.float64(-0.10752134426467513),\n",
                            "  'Kurtosis': np.float64(2.6665885643345373)},\n",
                            " {'Mean': np.float64(2.9108141327341497),\n",
                            "  'Median': np.float64(2.409413591541587),\n",
                            "  'Standard Deviation': np.float64(2.4710378030289863),\n",
                            "  'Variance': np.float64(6.1060278239983194),\n",
                            "  'Minimum': np.float64(0.08945839144248073),\n",
                            "  'Maximum': np.float64(16.65853914549492),\n",
                            "  '25th Percentile': np.float64(1.188087908977418),\n",
                            "  '75th Percentile': np.float64(3.947138868024432),\n",
                            "  'Skewness': np.float64(2.0934085624101395),\n",
                            "  'Kurtosis': np.float64(10.932264607513211)})"
                        ]
                    },
                    "execution_count": 1,
                    "metadata": {},
                    "output_type": "execute_result"
                }
            ],
            "source": [
                "# TODO\n",
                "import numpy as np\n",
                "\n",
                "# Generate an array of 100 elements following a normal distribution (mean=0, std=1)\n",
                "normal_array = np.random.normal(loc=0, scale=1, size=100)\n",
                "\n",
                "# Generate an array of 100 elements following a chi-square distribution with 3 degrees of freedom\n",
                "chi_square_array = np.random.chisquare(df=3, size=100)\n",
                "\n",
                "# Compute main statistical metrics for both distributions\n",
                "def compute_statistics(data):\n",
                "    return {\n",
                "        \"Mean\": np.mean(data),\n",
                "        \"Median\": np.median(data),\n",
                "        \"Standard Deviation\": np.std(data, ddof=1),\n",
                "        \"Variance\": np.var(data, ddof=1),\n",
                "        \"Minimum\": np.min(data),\n",
                "        \"Maximum\": np.max(data),\n",
                "        \"25th Percentile\": np.percentile(data, 25),\n",
                "        \"75th Percentile\": np.percentile(data, 75),\n",
                "        \"Skewness\": np.mean((data - np.mean(data))**3) / (np.std(data, ddof=1)**3),\n",
                "        \"Kurtosis\": np.mean((data - np.mean(data))**4) / (np.std(data, ddof=1)**4)\n",
                "    }\n",
                "\n",
                "# Get statistics for both arrays\n",
                "normal_stats = compute_statistics(normal_array)\n",
                "chi_square_stats = compute_statistics(chi_square_array)\n",
                "\n",
                "normal_stats, chi_square_stats\n"
            ]
        },
        {
            "cell_type": "markdown",
            "id": "46c70c3d",
            "metadata": {},
            "source": [
                "### Exercise 2\n",
                "\n",
                "Write a Python program to calculate the standard deviation of the following data:\n",
                "\n",
                "```py\n",
                "data = [4, 2, 5, 8, 6]\n",
                "```"
            ]
        },
        {
            "cell_type": "code",
            "execution_count": null,
            "id": "d590308e",
            "metadata": {},
            "outputs": [],
            "source": [
                "# TODO\n",
                "\n",
                "def standev(x){\n",
                "    \n",
                "}"
            ]
        }
    ],
    "metadata": {
        "kernelspec": {
            "display_name": "Python 3",
            "language": "python",
            "name": "python3"
        },
        "language_info": {
            "codemirror_mode": {
                "name": "ipython",
                "version": 3
            },
            "file_extension": ".py",
            "mimetype": "text/x-python",
            "name": "python",
            "nbconvert_exporter": "python",
            "pygments_lexer": "ipython3",
            "version": "3.11.4"
        }
    },
    "nbformat": 4,
    "nbformat_minor": 5
}
